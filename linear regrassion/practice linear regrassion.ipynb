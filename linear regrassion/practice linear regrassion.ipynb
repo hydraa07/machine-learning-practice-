{
 "cells": [
  {
   "cell_type": "code",
   "execution_count": null,
   "id": "e5c264c6",
   "metadata": {},
   "outputs": [],
   "source": [
    " # Import necessary libraries\n",
    "# import numpy as np\n",
    "# import pandas as pd\n",
    "# from sklearn.model_selection import train_test_split\n",
    "# from sklearn.linear_model import LinearRegression\n",
    "# from sklearn.metrics import mean_squared_error, r2_score\n",
    "# import matplotlib.pyplot as plt\n",
    "\n",
    "# # Example data\n",
    "# data = {\n",
    "#     'Size': [1500, 1600, 1700, 1800, 1900, 2000, 2100, 2200, 2300, 2400],\n",
    "#     'Price': [300000, 320000, 340000, 360000, 380000, 400000, 420000, 440000, 460000, 480000]\n",
    "# }\n",
    "# df = pd.DataFrame(data)\n",
    "\n",
    "# # Independent variable (feature) and dependent variable (target)\n",
    "# X = df[['Size']]\n",
    "# y = df['Price']\n",
    "\n",
    "# # Splitting the data into training and testing sets\n",
    "# X_train, X_test, y_train, y_test = train_test_split(X, y, test_size=0.2, random_state=0)\n",
    "\n",
    "# # Creating and training the linear regression model\n",
    "# model = LinearRegression()\n",
    "# model.fit(X_train, y_train)\n",
    "\n",
    "# # Making predictions\n",
    "# y_pred = model.predict(X_test)\n",
    "\n",
    "# # Evaluating the model\n",
    "# mse = mean_squared_error(y_test, y_pred)\n",
    "# r2 = r2_score(y_test, y_pred)\n",
    "\n",
    "# print(f\"Mean Squared Error: {mse}\")\n",
    "# print(f\"R-squared: {r2}\")\n",
    "\n",
    "# # Plotting the results\n",
    "# plt.scatter(X, y, color='blue')  # Original data points\n",
    "# plt.plot(X_test, y_pred, color='red', linewidth=2)  # Regression line\n",
    "# plt.xlabel('Size (sq ft)')\n",
    "# plt.ylabel('Price ($)')\n",
    "# plt.title('Linear Regression: House Prices vs Size')\n",
    "# plt.show()\n"
   ]
  },
  {
   "cell_type": "code",
   "execution_count": null,
   "id": "19764b4c",
   "metadata": {},
   "outputs": [],
   "source": [
    "import numpy as np\n",
    "import pandas as pd\n",
    "from sklearn.model_selection import train_test_split\n",
    "from sklearn.linear_model import LinearRegression\n",
    "from sklearn.metrics import mean_squared_error, r2_score\n",
    "import matplotlib.pyplot as plt"
   ]
  },
  {
   "cell_type": "code",
   "execution_count": null,
   "id": "ebf6822a",
   "metadata": {},
   "outputs": [],
   "source": []
  },
  {
   "cell_type": "code",
   "execution_count": null,
   "id": "82c2fd3f",
   "metadata": {},
   "outputs": [],
   "source": []
  },
  {
   "cell_type": "code",
   "execution_count": null,
   "id": "ae1a1be8",
   "metadata": {},
   "outputs": [],
   "source": []
  },
  {
   "cell_type": "code",
   "execution_count": null,
   "id": "5d81fe13",
   "metadata": {},
   "outputs": [],
   "source": []
  },
  {
   "cell_type": "code",
   "execution_count": null,
   "id": "937c9584",
   "metadata": {},
   "outputs": [],
   "source": []
  },
  {
   "cell_type": "code",
   "execution_count": null,
   "id": "b2d034cb",
   "metadata": {},
   "outputs": [],
   "source": []
  },
  {
   "cell_type": "code",
   "execution_count": null,
   "id": "1c8a5d84",
   "metadata": {},
   "outputs": [],
   "source": []
  }
 ],
 "metadata": {
  "kernelspec": {
   "display_name": "Python 3 (ipykernel)",
   "language": "python",
   "name": "python3"
  },
  "language_info": {
   "codemirror_mode": {
    "name": "ipython",
    "version": 3
   },
   "file_extension": ".py",
   "mimetype": "text/x-python",
   "name": "python",
   "nbconvert_exporter": "python",
   "pygments_lexer": "ipython3",
   "version": "3.11.5"
  }
 },
 "nbformat": 4,
 "nbformat_minor": 5
}
